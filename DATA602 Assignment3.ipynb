{
  "nbformat": 4,
  "nbformat_minor": 0,
  "metadata": {
    "colab": {
      "provenance": [],
      "authorship_tag": "ABX9TyMVJKkVCVDbJZdAUcS6Js/Y",
      "include_colab_link": true
    },
    "kernelspec": {
      "name": "python3",
      "display_name": "Python 3"
    },
    "language_info": {
      "name": "python"
    }
  },
  "cells": [
    {
      "cell_type": "markdown",
      "metadata": {
        "id": "view-in-github",
        "colab_type": "text"
      },
      "source": [
        "<a href=\"https://colab.research.google.com/github/SalouaDaouki/Data-607-Week-1-assignment-/blob/main/DATA602%20Assignment3.ipynb\" target=\"_parent\"><img src=\"https://colab.research.google.com/assets/colab-badge.svg\" alt=\"Open In Colab\"/></a>"
      ]
    },
    {
      "cell_type": "markdown",
      "source": [
        "**Q1** A program that prompts the user for a meal:"
      ],
      "metadata": {
        "id": "ushcwpYLFQMO"
      }
    },
    {
      "cell_type": "code",
      "execution_count": 12,
      "metadata": {
        "colab": {
          "base_uri": "https://localhost:8080/"
        },
        "id": "s9JBgdS1FAWD",
        "outputId": "c9654a77-4e2d-44b3-9a5c-5e9993c9bd69"
      },
      "outputs": [
        {
          "output_type": "stream",
          "name": "stdout",
          "text": [
            "Would you like to have breakfast, lunch or dinner?breakfast\n",
            "How about croissant with egg and cheese? or something else?bagel with cream cheese\n",
            "Bon Appetit\n"
          ]
        }
      ],
      "source": [
        "# Asking the user which meal they are having at the moment.\n",
        "meal = input('Would you like to have breakfast, lunch or dinner?')\n",
        "# execute the message based on the user's choice:\n",
        "if meal == 'breakfast':\n",
        "  input(\"How about croissant with egg and cheese? or something else?\")\n",
        "  print(\"Bon Appetit\")\n",
        "elif meal == 'lunch':\n",
        "  input(\"How about cheeseburger and fries? or would you like something else?\")\n",
        "  print(\"Bon Appetit\")\n",
        "elif meal == 'dinner':\n",
        "  input(\"How about some soup and sourdough bread?\"\n",
        "  \" anything else in mind that you would like to have for dinner?\")\n",
        "  print(\"Bon Appetit\")\n",
        "else:\n",
        "    print(\"Good bye!\")"
      ]
    },
    {
      "cell_type": "markdown",
      "source": [
        "**Q2** Student employee's gross pay."
      ],
      "metadata": {
        "id": "vSdLMyRPPABd"
      }
    },
    {
      "cell_type": "code",
      "source": [
        "# asking the user to enter their hours worked and their rate pay\n",
        "hours_worked = int(input(\"How many hours did you work last week?\"))\n",
        "rate_pay = int(input(\"What is your rate pay (dollars per hour)?\"))\n",
        "# executing the user's weekly gross pay\n",
        "if hours_worked <= 20:\n",
        "  print(\"Your gross pay for last week is $\", hours_worked * rate_pay)\n",
        "else:\n",
        "  print(\"Your gross pay for last week is $\" , (20*rate_pay) + ((hours_worked-20)*(1.5*rate_pay)))"
      ],
      "metadata": {
        "colab": {
          "base_uri": "https://localhost:8080/"
        },
        "id": "wzed7HjNPSnw",
        "outputId": "f3be29ba-733c-4fe5-dd99-efed5d8c7ebd"
      },
      "execution_count": 17,
      "outputs": [
        {
          "output_type": "stream",
          "name": "stdout",
          "text": [
            "How many hours did you work last week?25\n",
            "What is your rate pay (dollars per hour)?10\n",
            "Your gross pay for last week is $ 275.0\n"
          ]
        }
      ]
    },
    {
      "cell_type": "markdown",
      "source": [
        "**Q3** Times ten argument:"
      ],
      "metadata": {
        "id": "zJYt40e7TT9Z"
      }
    },
    {
      "cell_type": "code",
      "source": [
        "#asking the user to enter a value then priniting its product by 10\n",
        "argument = int(input(\"Enter a number\"))\n",
        "print(\"product of the value you enterd multiplied by 10 is\", argument*10)"
      ],
      "metadata": {
        "colab": {
          "base_uri": "https://localhost:8080/"
        },
        "id": "a-07TBRZTai4",
        "outputId": "d2408847-ba8b-4f9a-beb5-364c44d591f1"
      },
      "execution_count": 18,
      "outputs": [
        {
          "output_type": "stream",
          "name": "stdout",
          "text": [
            "Enter a number100\n",
            "product of the value you enterd multiplied by 10 is 1000\n"
          ]
        }
      ]
    },
    {
      "cell_type": "markdown",
      "source": [
        "**Q4** Find the errors, debug the program, and then execute to show the output.\n"
      ],
      "metadata": {
        "id": "ERowaxpWY3_u"
      }
    },
    {
      "cell_type": "code",
      "source": [
        "def main():\n",
        " Calories1 = float(input( \"How many calories are in the first food?\")) #adding float() to accept integers and decimals\n",
        " Calories2 = float(input( \"How many calories are in the second food?\")) #replaced the \"first\" with \"second\" food\n",
        " showCalories(Calories1, Calories2) # changing \"c\" in calories to \"C\" because this how it was defined\n",
        "\n",
        "def showCalories(Calories1, Calories2) :  # editing the def to avoid the error \"showCalories() takes 0 positional arguments but 2 were given\"\n",
        "   print(\"The total calories you ate today\", format(Calories1 + Calories2),\"%.2f\")\n",
        "main() # adding this line to call the main function"
      ],
      "metadata": {
        "colab": {
          "base_uri": "https://localhost:8080/"
        },
        "id": "JAprhW0EUWgu",
        "outputId": "d96079a8-35c7-4270-e8d1-8378a5fbbe50"
      },
      "execution_count": 34,
      "outputs": [
        {
          "output_type": "stream",
          "name": "stdout",
          "text": [
            "How many calories are in the first food?100\n",
            "How many calories are in the second food?100\n",
            "The total calories you ate today 200.0 %.2f\n"
          ]
        }
      ]
    },
    {
      "cell_type": "markdown",
      "source": [
        "**Q5** Write a program that uses any loop (while or for) that calculates the total of the following series of numbers:\n",
        "         1/30 + 2/29 + 3/28 ............. + 30/1"
      ],
      "metadata": {
        "id": "BB0z0GeK5BF7"
      }
    },
    {
      "cell_type": "code",
      "source": [
        "for i in range(1,31):\n",
        "    v = i\n",
        "for j in range(30,0,-1):\n",
        "    t = j\n",
        "    print(v/t)\n",
        "r = 0\n",
        "for i in range(1,31):\n",
        "    r += i / (31 - i)\n",
        "print(r)"
      ],
      "metadata": {
        "colab": {
          "base_uri": "https://localhost:8080/"
        },
        "id": "auLA0bIE5HPE",
        "outputId": "e724b21b-946d-4595-b4c9-91eb89fee680"
      },
      "execution_count": 62,
      "outputs": [
        {
          "output_type": "stream",
          "name": "stdout",
          "text": [
            "1.0\n",
            "1.0344827586206897\n",
            "1.0714285714285714\n",
            "1.1111111111111112\n",
            "1.1538461538461537\n",
            "1.2\n",
            "1.25\n",
            "1.3043478260869565\n",
            "1.3636363636363635\n",
            "1.4285714285714286\n",
            "1.5\n",
            "1.5789473684210527\n",
            "1.6666666666666667\n",
            "1.7647058823529411\n",
            "1.875\n",
            "2.0\n",
            "2.142857142857143\n",
            "2.3076923076923075\n",
            "2.5\n",
            "2.727272727272727\n",
            "3.0\n",
            "3.3333333333333335\n",
            "3.75\n",
            "4.285714285714286\n",
            "5.0\n",
            "6.0\n",
            "7.5\n",
            "10.0\n",
            "15.0\n",
            "30.0\n",
            "93.84460105853213\n"
          ]
        }
      ]
    },
    {
      "cell_type": "markdown",
      "source": [
        "**Q6** Write a function that computes the area of a triangle given its base and height.\n",
        "The formula for an area of a triangle is:\n",
        "AREA = 1/2 * BASE * HEIGHT"
      ],
      "metadata": {
        "id": "j9rPvGarAbhq"
      }
    },
    {
      "cell_type": "code",
      "source": [
        "# inputting the base and the height of a triangle:\n",
        "base = float(input('Enter the base of the triangle '))\n",
        "height = float(input('Enter the height of the triangle '))\n",
        "print(\"The area of the triangle is\" , 1/2 * base * height, \"squared unit\")"
      ],
      "metadata": {
        "colab": {
          "base_uri": "https://localhost:8080/"
        },
        "id": "WAEgi7TkAh4G",
        "outputId": "7c25fe36-a791-4d69-82e4-349d4747e198"
      },
      "execution_count": 65,
      "outputs": [
        {
          "output_type": "stream",
          "name": "stdout",
          "text": [
            "Enter the base of the triangle 5\n",
            "Enter the height of the triangle 4\n",
            "The area of the triangle is 10.0 squared unit\n"
          ]
        }
      ]
    }
  ]
}